{
 "cells": [
  {
   "cell_type": "markdown",
   "id": "00914d54-f6f2-41d4-ad3f-31002ebcac6b",
   "metadata": {},
   "source": [
    "# Baysor evaluation"
   ]
  },
  {
   "cell_type": "code",
   "execution_count": null,
   "id": "7a9304b7-487e-454e-b4b7-07d5a1ba37b7",
   "metadata": {},
   "outputs": [],
   "source": [
    "import pandas as pd\n",
    "import os\n",
    "import numpy as np\n",
    "from tqdm.notebook import tqdm\n",
    "import scanpy as sc\n",
    "import matplotlib.pyplot as plt\n",
    "from collections import Counter\n",
    "from sklearn.decomposition import PCA\n",
    "\n",
    "import seaborn as sns\n",
    "from sklearn.model_selection import train_test_split\n",
    "from sklearn.ensemble import RandomForestClassifier\n",
    "from sklearn.metrics import confusion_matrix\n",
    "from sklearn.utils.class_weight import compute_class_weight\n",
    "from sklearn.metrics.cluster import adjusted_mutual_info_score"
   ]
  },
  {
   "cell_type": "code",
   "execution_count": null,
   "id": "f0147652-1827-4592-9f02-83642c46b709",
   "metadata": {},
   "outputs": [],
   "source": [
    "# Add path to the Baysor ouput\n",
    "output_path = 'data'"
   ]
  },
  {
   "cell_type": "code",
   "execution_count": null,
   "id": "2d0cbe76-69bf-4498-bc8e-22147280c8c5",
   "metadata": {},
   "outputs": [],
   "source": [
    "# Read in Baysor output and cellpose output trasncripts files\n",
    "transcripts = pd.read_csv(os.path.join(output_path, 'transcripts.csv'))\n",
    "transcripts_cellpose = pd.read_csv(os.path.join(output_path, 'transcripts_cellpose.csv'))"
   ]
  },
  {
   "cell_type": "code",
   "execution_count": null,
   "id": "8381b970-361b-4de2-8502-b9a92dcfc7a1",
   "metadata": {},
   "outputs": [],
   "source": [
    "# Preprocess and format the csvs\n",
    "transcripts_cellpose.index = transcripts_cellpose.transcript_id.values\n",
    "transcripts.index = transcripts.transcript_id.values\n",
    "cell_values = transcripts.cell\n",
    "cell_values.fillna('Not_assigned-0', inplace=True)\n",
    "transcripts['cell_number'] = cell_values"
   ]
  },
  {
   "cell_type": "markdown",
   "id": "72cc0d77-ab4f-4e0b-9a50-7a5f73d04ac8",
   "metadata": {},
   "source": [
    "Every Baysor cell contains transcripts from 1+ nuclei. If not, they are removed from accuracy calculations, as there is no way to evaluate their accuracy. I next assign the nuclei cell label that is most prevalent in each Baysor cell."
   ]
  },
  {
   "cell_type": "code",
   "execution_count": null,
   "id": "b688abda-4b3e-4fb5-87d7-e131e96334cc",
   "metadata": {},
   "outputs": [],
   "source": [
    "overlap = transcripts[transcripts.overlaps_nucleus == 1]\n",
    "nuclei_associated = transcripts_cellpose.loc[overlap.transcript_id.values]\n",
    "overlap['associated_nucleus'] = nuclei_associated.cell_id.values "
   ]
  },
  {
   "cell_type": "code",
   "execution_count": null,
   "id": "0c58b994-5f53-4f7f-9a6d-2237a92fd390",
   "metadata": {},
   "outputs": [],
   "source": [
    "cell_numbers = overlap.cell_number.values\n",
    "associated_nuclei = overlap.associated_nucleus.values\n",
    "\n",
    "# Create a dictionary to store the most common value for each unique cell number\n",
    "most_common_values = {}\n",
    "\n",
    "# Iterate through the pairs of cell numbers and associated nuclei\n",
    "for cell_number, nucleus in zip(cell_numbers, associated_nuclei):\n",
    "    if cell_number not in most_common_values:\n",
    "        most_common_values[cell_number] = Counter()\n",
    "\n",
    "    most_common_values[cell_number][nucleus] += 1\n",
    "\n",
    "# Calculate the most common nucleus for each unique cell number\n",
    "result = {cell_number: counter.most_common(1)[0][0] for cell_number, counter in most_common_values.items()}"
   ]
  },
  {
   "cell_type": "code",
   "execution_count": null,
   "id": "2ce40f5d-0ca3-4d2f-8eb8-bff42767a0a7",
   "metadata": {},
   "outputs": [],
   "source": [
    "keys = list(result.keys())\n",
    "values = list(result.values())\n",
    "transcripts = transcripts[transcripts.cell_number.isin(keys)]\n",
    "max_nucleus = [result.get(i) for i in overlap.cell_number]\n",
    "overlap['max_nucleus'] = max_nucleus"
   ]
  },
  {
   "cell_type": "markdown",
   "id": "b2273b84-ef64-42ad-92a7-7be3c6ade5b8",
   "metadata": {},
   "source": [
    "Let's now define leiden clusters for each segmented nucleus that is present in Baysor"
   ]
  },
  {
   "cell_type": "code",
   "execution_count": null,
   "id": "10b56b21-ace8-4b63-81d3-943540263b9e",
   "metadata": {},
   "outputs": [],
   "source": [
    "overlap = transcripts[transcripts.overlaps_nucleus == 1]\n",
    "df = pd.DataFrame(zip(overlap.cell_number.values, overlap.gene.values))\n",
    "df.columns = ['cell_number', 'gene']"
   ]
  },
  {
   "cell_type": "code",
   "execution_count": null,
   "id": "d253e811-85df-48d4-a3e9-4d9c8d54cf7e",
   "metadata": {},
   "outputs": [],
   "source": [
    "#Creating nucleus cell by gene matrix\n",
    "result_nuclei = df.groupby(['cell_number', 'gene']).size().unstack(fill_value=0)\n",
    "ad = sc.AnnData(X=result_nuclei.values.T, var= pd.DataFrame(index=result_nuclei.index.values), obs= pd.DataFrame(index=result_nuclei.columns)).T\n",
    "ad = ad[~ad.obs.index.str.contains('Not_assigned'), :]"
   ]
  },
  {
   "cell_type": "code",
   "execution_count": null,
   "id": "43da4c02-3dbe-4ac0-a3be-5210bdf7c875",
   "metadata": {},
   "outputs": [],
   "source": [
    "#Leiden on ad. I am filtering on 20 min nucleus counts, which has been standard in our preprocessing pipelines\n",
    "sc.pp.filter_cells(ad, min_counts=20)\n",
    "sc.tl.pca(ad)\n",
    "sc.pp.neighbors(ad)\n",
    "sc.tl.umap(ad)\n",
    "sc.tl.leiden(ad)"
   ]
  },
  {
   "cell_type": "markdown",
   "id": "eca90cde-1772-4406-93a4-9232ac853f63",
   "metadata": {},
   "source": [
    "Now we can match up the leiden cluster labels to each baysor cell as training data. We want to determine how well we can predict leiden cluster from cytoplasmic reads."
   ]
  },
  {
   "cell_type": "code",
   "execution_count": null,
   "id": "fc5842cb-fed4-4374-a819-6a462c00122c",
   "metadata": {},
   "outputs": [],
   "source": [
    "transcripts = transcripts[transcripts['cell_number'].isin(ad.obs.index.values)]\n",
    "training_annotation = ad.obs.loc[transcripts.cell_number.values]['leiden']\n",
    "transcripts['training_annotation'] = training_annotation.values"
   ]
  },
  {
   "cell_type": "markdown",
   "id": "8fd0cfea-880e-4ab2-91bd-a1f239a0bbac",
   "metadata": {},
   "source": [
    "Let's create a cytoplasmic cell-by-gene matrix and store the ground truth annotations for each of the cells"
   ]
  },
  {
   "cell_type": "code",
   "execution_count": null,
   "id": "e75ae377-de7f-4060-bcfb-d1a88ac230e9",
   "metadata": {},
   "outputs": [],
   "source": [
    "transcripts_cyto = transcripts[transcripts['overlaps_nucleus'] != 1]\n",
    "df = pd.DataFrame(zip(transcripts_cyto.cell_number.values, transcripts_cyto.gene.values))\n",
    "df.columns = ['cell_number', 'gene']\n",
    "result = df.groupby(['cell_number', 'gene']).size().unstack(fill_value=0)"
   ]
  },
  {
   "cell_type": "code",
   "execution_count": null,
   "id": "aedb2aa6-3a8f-4099-afa2-cf10567b32bc",
   "metadata": {},
   "outputs": [],
   "source": [
    "# Format the training labels (leiden clusters) for each baysor cell in \"result\"\n",
    "prepare_training_labels = transcripts_cyto[['cell_number', 'training_annotation', 'x', 'y']]\n",
    "prepare_training_labels.drop_duplicates(subset='cell_number', inplace=True)\n",
    "prepare_training_labels.index = prepare_training_labels.cell_number.values\n",
    "training_labels_sorted = prepare_training_labels.loc[result.index.values]\n",
    "training_labels = training_labels_sorted.training_annotation.values"
   ]
  },
  {
   "cell_type": "code",
   "execution_count": null,
   "id": "ff1acd4d-253e-4744-b896-ed48d7d7f590",
   "metadata": {},
   "outputs": [],
   "source": [
    "#Run PCA to reduce the dimensionality of the cytoplasmic reads\n",
    "pca = PCA(n_components=20)\n",
    "training_data = pca.fit_transform(result.values)"
   ]
  },
  {
   "cell_type": "markdown",
   "id": "421526fb-f780-47c7-82dc-439d908d0941",
   "metadata": {},
   "source": [
    "Now we can train up a random forest to predict label from cytoplasmic reads"
   ]
  },
  {
   "cell_type": "code",
   "execution_count": null,
   "id": "d76f5b0d-92f0-4859-a3ba-c2fb7f8b726c",
   "metadata": {},
   "outputs": [],
   "source": [
    "class_weights = compute_class_weight('balanced', y=training_labels, classes=np.unique(training_labels))\n",
    "# Create a dictionary of class weights\n",
    "class_weight_dict = {class_label: weight for class_label, weight in zip(np.unique(training_labels), class_weights)}"
   ]
  },
  {
   "cell_type": "code",
   "execution_count": null,
   "id": "e1dc1677-72b7-4c81-97bb-9f187312a389",
   "metadata": {},
   "outputs": [],
   "source": [
    "X_train, X_test, y_train, y_test = train_test_split(training_data, training_labels, test_size=0.2, random_state=42)\n",
    "clf = RandomForestClassifier(n_estimators=100, random_state=42)\n",
    "clf.fit(X_train, y_train)"
   ]
  },
  {
   "cell_type": "markdown",
   "id": "2868a2ed",
   "metadata": {},
   "source": [
    "## Results"
   ]
  },
  {
   "cell_type": "code",
   "execution_count": null,
   "id": "6f149a3e-495f-4ecf-a645-62272afd0ae3",
   "metadata": {},
   "outputs": [],
   "source": [
    "y_pred = clf.predict(X_test)\n",
    "conf_matrix = confusion_matrix(y_test, y_pred)\n",
    "df_conf_matrix = pd.DataFrame(conf_matrix, index=np.unique(y_test), columns=np.unique(y_test))\n",
    "plt.figure(figsize=(8, 6))\n",
    "sns.heatmap(df_conf_matrix, annot=True, cmap=\"YlGnBu\", fmt='g')\n",
    "plt.xlabel('Predicted Labels')\n",
    "plt.ylabel('True Labels')\n",
    "plt.title('Confusion Matrix Heatmap')\n",
    "plt.show()\n"
   ]
  },
  {
   "cell_type": "markdown",
   "id": "d757082f-ac80-48fd-9318-fdf671f677ab",
   "metadata": {},
   "source": [
    "And if we want a single score indicating how cleanly Baysor is separating all of our individual clusters:"
   ]
  },
  {
   "cell_type": "code",
   "execution_count": null,
   "id": "e56ec0bf-f274-4ae5-902b-b876c5ba402b",
   "metadata": {},
   "outputs": [],
   "source": [
    "ami_score = adjusted_mutual_info_score(y_test, y_pred)"
   ]
  },
  {
   "cell_type": "code",
   "execution_count": null,
   "id": "0b77d4f3-815d-4231-bc95-553f5c11adb8",
   "metadata": {},
   "outputs": [],
   "source": [
    "print(ami_score)"
   ]
  },
  {
   "cell_type": "markdown",
   "id": "0fb94cdd-1199-425b-ad4f-8c2d2e92d76a",
   "metadata": {},
   "source": [
    "Closest to 1 is best"
   ]
  }
 ],
 "metadata": {
  "kernelspec": {
   "display_name": "Python 3 (ipykernel)",
   "language": "python",
   "name": "python3"
  },
  "language_info": {
   "codemirror_mode": {
    "name": "ipython",
    "version": 3
   },
   "file_extension": ".py",
   "mimetype": "text/x-python",
   "name": "python",
   "nbconvert_exporter": "python",
   "pygments_lexer": "ipython3",
   "version": "3.11.5"
  }
 },
 "nbformat": 4,
 "nbformat_minor": 5
}
