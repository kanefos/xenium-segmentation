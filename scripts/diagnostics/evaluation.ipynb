{
 "cells": [
  {
   "cell_type": "markdown",
   "id": "00914d54-f6f2-41d4-ad3f-31002ebcac6b",
   "metadata": {},
   "source": [
    "# Baysor evaluation"
   ]
  },
  {
   "cell_type": "code",
   "execution_count": 1,
   "id": "7a9304b7-487e-454e-b4b7-07d5a1ba37b7",
   "metadata": {},
   "outputs": [
    {
     "name": "stderr",
     "output_type": "stream",
     "text": [
      "/home/max/Desktop/docker-scanpy/.venv/lib64/python3.11/site-packages/umap/distances.py:1063: NumbaDeprecationWarning: The 'nopython' keyword argument was not supplied to the 'numba.jit' decorator. The implicit default value for this argument is currently False, but it will be changed to True in Numba 0.59.0. See https://numba.readthedocs.io/en/stable/reference/deprecation.html#deprecation-of-object-mode-fall-back-behaviour-when-using-jit for details.\n",
      "  @numba.jit()\n",
      "/home/max/Desktop/docker-scanpy/.venv/lib64/python3.11/site-packages/umap/distances.py:1071: NumbaDeprecationWarning: The 'nopython' keyword argument was not supplied to the 'numba.jit' decorator. The implicit default value for this argument is currently False, but it will be changed to True in Numba 0.59.0. See https://numba.readthedocs.io/en/stable/reference/deprecation.html#deprecation-of-object-mode-fall-back-behaviour-when-using-jit for details.\n",
      "  @numba.jit()\n",
      "/home/max/Desktop/docker-scanpy/.venv/lib64/python3.11/site-packages/umap/distances.py:1086: NumbaDeprecationWarning: The 'nopython' keyword argument was not supplied to the 'numba.jit' decorator. The implicit default value for this argument is currently False, but it will be changed to True in Numba 0.59.0. See https://numba.readthedocs.io/en/stable/reference/deprecation.html#deprecation-of-object-mode-fall-back-behaviour-when-using-jit for details.\n",
      "  @numba.jit()\n",
      "/home/max/Desktop/docker-scanpy/.venv/lib64/python3.11/site-packages/tqdm/auto.py:21: TqdmWarning: IProgress not found. Please update jupyter and ipywidgets. See https://ipywidgets.readthedocs.io/en/stable/user_install.html\n",
      "  from .autonotebook import tqdm as notebook_tqdm\n",
      "/home/max/Desktop/docker-scanpy/.venv/lib64/python3.11/site-packages/umap/umap_.py:660: NumbaDeprecationWarning: The 'nopython' keyword argument was not supplied to the 'numba.jit' decorator. The implicit default value for this argument is currently False, but it will be changed to True in Numba 0.59.0. See https://numba.readthedocs.io/en/stable/reference/deprecation.html#deprecation-of-object-mode-fall-back-behaviour-when-using-jit for details.\n",
      "  @numba.jit()\n"
     ]
    }
   ],
   "source": [
    "import pandas as pd\n",
    "import os\n",
    "import numpy as np\n",
    "from tqdm.notebook import tqdm\n",
    "import scanpy as sc\n",
    "import matplotlib.pyplot as plt\n",
    "from collections import Counter\n",
    "from sklearn.decomposition import PCA\n",
    "\n",
    "import seaborn as sns\n",
    "from sklearn.model_selection import train_test_split\n",
    "from sklearn.ensemble import RandomForestClassifier\n",
    "from sklearn.metrics import confusion_matrix\n",
    "from sklearn.utils.class_weight import compute_class_weight\n",
    "from sklearn.metrics.cluster import adjusted_mutual_info_score"
   ]
  },
  {
   "cell_type": "code",
   "execution_count": 2,
   "id": "f0147652-1827-4592-9f02-83642c46b709",
   "metadata": {},
   "outputs": [],
   "source": [
    "# Add path to the Baysor ouput\n",
    "output_path = 'data'"
   ]
  },
  {
   "cell_type": "code",
   "execution_count": 3,
   "id": "2d0cbe76-69bf-4498-bc8e-22147280c8c5",
   "metadata": {},
   "outputs": [],
   "source": [
    "# Read in Baysor output and cellpose output trasncripts files\n",
    "transcripts = pd.read_csv(os.path.join(output_path, 'transcripts.csv'))\n",
    "transcripts_cellpose = pd.read_csv(os.path.join(output_path, 'transcripts_cellpose.csv'))"
   ]
  },
  {
   "cell_type": "code",
   "execution_count": 4,
   "id": "8381b970-361b-4de2-8502-b9a92dcfc7a1",
   "metadata": {},
   "outputs": [],
   "source": [
    "# Preprocess and format the csvs\n",
    "transcripts_cellpose.index = transcripts_cellpose.transcript_id.values\n",
    "transcripts.index = transcripts.transcript_id.values\n",
    "cell_values = transcripts.cell\n",
    "cell_values.fillna('Not_assigned-0', inplace=True)\n",
    "transcripts['cell_number'] = cell_values"
   ]
  },
  {
   "cell_type": "markdown",
   "id": "72cc0d77-ab4f-4e0b-9a50-7a5f73d04ac8",
   "metadata": {},
   "source": [
    "Every Baysor cell contains transcripts from 1+ nuclei. If not, they are removed from accuracy calculations, as there is no way to evaluate their accuracy. I next assign the nuclei cell label that is most prevalent in each Baysor cell."
   ]
  },
  {
   "cell_type": "code",
   "execution_count": 5,
   "id": "b688abda-4b3e-4fb5-87d7-e131e96334cc",
   "metadata": {},
   "outputs": [
    {
     "name": "stderr",
     "output_type": "stream",
     "text": [
      "/tmp/ipykernel_3231/3747767411.py:3: SettingWithCopyWarning: \n",
      "A value is trying to be set on a copy of a slice from a DataFrame.\n",
      "Try using .loc[row_indexer,col_indexer] = value instead\n",
      "\n",
      "See the caveats in the documentation: https://pandas.pydata.org/pandas-docs/stable/user_guide/indexing.html#returning-a-view-versus-a-copy\n",
      "  overlap['associated_nucleus'] = nuclei_associated.cell_id.values\n"
     ]
    }
   ],
   "source": [
    "overlap = transcripts[transcripts.overlaps_nucleus == 1]\n",
    "nuclei_associated = transcripts_cellpose.loc[overlap.transcript_id.values]\n",
    "overlap['associated_nucleus'] = nuclei_associated.cell_id.values "
   ]
  },
  {
   "cell_type": "code",
   "execution_count": 7,
   "id": "0c58b994-5f53-4f7f-9a6d-2237a92fd390",
   "metadata": {},
   "outputs": [],
   "source": [
    "cell_numbers = overlap.cell_number.values\n",
    "associated_nuclei = overlap.associated_nucleus.values\n",
    "\n",
    "# Create a dictionary to store the most common value for each unique cell number\n",
    "most_common_values = {}\n",
    "\n",
    "# Iterate through the pairs of cell numbers and associated nuclei\n",
    "for cell_number, nucleus in zip(cell_numbers, associated_nuclei):\n",
    "    if cell_number not in most_common_values:\n",
    "        most_common_values[cell_number] = Counter()\n",
    "\n",
    "    most_common_values[cell_number][nucleus] += 1\n",
    "\n",
    "# Calculate the most common nucleus for each unique cell number\n",
    "result = {cell_number: counter.most_common(1)[0][0] for cell_number, counter in most_common_values.items()}"
   ]
  },
  {
   "cell_type": "code",
   "execution_count": 8,
   "id": "2ce40f5d-0ca3-4d2f-8eb8-bff42767a0a7",
   "metadata": {},
   "outputs": [],
   "source": [
    "keys = list(result.keys())\n",
    "values = list(result.values())\n",
    "transcripts = transcripts[transcripts.cell_number.isin(keys)]\n",
    "max_nucleus = [result.get(i) for i in overlap.cell_number]\n",
    "overlap['max_nucleus'] = max_nucleus"
   ]
  },
  {
   "cell_type": "markdown",
   "id": "b2273b84-ef64-42ad-92a7-7be3c6ade5b8",
   "metadata": {},
   "source": [
    "Let's now define leiden clusters for each segmented nucleus that is present in Baysor"
   ]
  },
  {
   "cell_type": "code",
   "execution_count": 9,
   "id": "10b56b21-ace8-4b63-81d3-943540263b9e",
   "metadata": {},
   "outputs": [],
   "source": [
    "overlap = transcripts[transcripts.overlaps_nucleus == 1]\n",
    "df = pd.DataFrame(zip(overlap.cell_number.values, overlap.gene.values))\n",
    "df.columns = ['cell_number', 'gene']"
   ]
  },
  {
   "cell_type": "code",
   "execution_count": 10,
   "id": "d253e811-85df-48d4-a3e9-4d9c8d54cf7e",
   "metadata": {},
   "outputs": [],
   "source": [
    "#Creating nucleus cell by gene matrix\n",
    "result_nuclei = df.groupby(['cell_number', 'gene']).size().unstack(fill_value=0)\n",
    "ad = sc.AnnData(X=result_nuclei.values.T, var= pd.DataFrame(index=result_nuclei.index.values), obs= pd.DataFrame(index=result_nuclei.columns)).T\n",
    "ad = ad[~ad.obs.index.str.contains('Not_assigned'), :]"
   ]
  },
  {
   "cell_type": "code",
   "execution_count": 12,
   "id": "43da4c02-3dbe-4ac0-a3be-5210bdf7c875",
   "metadata": {},
   "outputs": [
    {
     "name": "stderr",
     "output_type": "stream",
     "text": [
      "/home/max/Desktop/docker-scanpy/.venv/lib64/python3.11/site-packages/anndata/_core/anndata.py:1113: FutureWarning: is_categorical_dtype is deprecated and will be removed in a future version. Use isinstance(dtype, CategoricalDtype) instead\n",
      "  if not is_categorical_dtype(df_full[k]):\n"
     ]
    }
   ],
   "source": [
    "#Leiden on ad. I am filtering on 20 min nucleus counts, which has been standard in our preprocessing pipelines\n",
    "sc.pp.filter_cells(ad, min_counts=20)\n",
    "sc.tl.pca(ad)\n",
    "sc.pp.neighbors(ad)\n",
    "sc.tl.umap(ad)\n",
    "sc.tl.leiden(ad)"
   ]
  },
  {
   "cell_type": "markdown",
   "id": "eca90cde-1772-4406-93a4-9232ac853f63",
   "metadata": {},
   "source": [
    "Now we can match up the leiden cluster labels to each baysor cell as training data. We want to determine how well we can predict leiden cluster from cytoplasmic reads."
   ]
  },
  {
   "cell_type": "code",
   "execution_count": 13,
   "id": "fc5842cb-fed4-4374-a819-6a462c00122c",
   "metadata": {},
   "outputs": [],
   "source": [
    "transcripts = transcripts[transcripts['cell_number'].isin(ad.obs.index.values)]\n",
    "training_annotation = ad.obs.loc[transcripts.cell_number.values]['leiden']\n",
    "transcripts['training_annotation'] = training_annotation.values"
   ]
  },
  {
   "cell_type": "markdown",
   "id": "8fd0cfea-880e-4ab2-91bd-a1f239a0bbac",
   "metadata": {},
   "source": [
    "Let's create a cytoplasmic cell-by-gene matrix and store the ground truth annotations for each of the cells"
   ]
  },
  {
   "cell_type": "code",
   "execution_count": 14,
   "id": "e75ae377-de7f-4060-bcfb-d1a88ac230e9",
   "metadata": {},
   "outputs": [],
   "source": [
    "transcripts_cyto = transcripts[transcripts['overlaps_nucleus'] != 1]\n",
    "df = pd.DataFrame(zip(transcripts_cyto.cell_number.values, transcripts_cyto.gene.values))\n",
    "df.columns = ['cell_number', 'gene']\n",
    "result = df.groupby(['cell_number', 'gene']).size().unstack(fill_value=0)"
   ]
  },
  {
   "cell_type": "code",
   "execution_count": 15,
   "id": "aedb2aa6-3a8f-4099-afa2-cf10567b32bc",
   "metadata": {},
   "outputs": [
    {
     "name": "stderr",
     "output_type": "stream",
     "text": [
      "/tmp/ipykernel_3231/2906946784.py:3: SettingWithCopyWarning: \n",
      "A value is trying to be set on a copy of a slice from a DataFrame\n",
      "\n",
      "See the caveats in the documentation: https://pandas.pydata.org/pandas-docs/stable/user_guide/indexing.html#returning-a-view-versus-a-copy\n",
      "  prepare_training_labels.drop_duplicates(subset='cell_number', inplace=True)\n"
     ]
    }
   ],
   "source": [
    "# Format the training labels (leiden clusters) for each baysor cell in \"result\"\n",
    "prepare_training_labels = transcripts_cyto[['cell_number', 'training_annotation', 'x', 'y']]\n",
    "prepare_training_labels.drop_duplicates(subset='cell_number', inplace=True)\n",
    "prepare_training_labels.index = prepare_training_labels.cell_number.values\n",
    "training_labels_sorted = prepare_training_labels.loc[result.index.values]\n",
    "training_labels = training_labels_sorted.training_annotation.values"
   ]
  },
  {
   "cell_type": "code",
   "execution_count": 16,
   "id": "ff1acd4d-253e-4744-b896-ed48d7d7f590",
   "metadata": {},
   "outputs": [],
   "source": [
    "#Run PCA to reduce the dimensionality of the cytoplasmic reads\n",
    "pca = PCA(n_components=20)\n",
    "training_data = pca.fit_transform(result.values)"
   ]
  },
  {
   "cell_type": "markdown",
   "id": "421526fb-f780-47c7-82dc-439d908d0941",
   "metadata": {},
   "source": [
    "Now we can train up a random forest to predict label from cytoplasmic reads"
   ]
  },
  {
   "cell_type": "code",
   "execution_count": 17,
   "id": "d76f5b0d-92f0-4859-a3ba-c2fb7f8b726c",
   "metadata": {},
   "outputs": [],
   "source": [
    "class_weights = compute_class_weight('balanced', y=training_labels, classes=np.unique(training_labels))\n",
    "# Create a dictionary of class weights\n",
    "class_weight_dict = {class_label: weight for class_label, weight in zip(np.unique(training_labels), class_weights)}"
   ]
  },
  {
   "cell_type": "code",
   "execution_count": 18,
   "id": "e1dc1677-72b7-4c81-97bb-9f187312a389",
   "metadata": {},
   "outputs": [
    {
     "data": {
      "text/html": [
       "<style>#sk-container-id-1 {color: black;}#sk-container-id-1 pre{padding: 0;}#sk-container-id-1 div.sk-toggleable {background-color: white;}#sk-container-id-1 label.sk-toggleable__label {cursor: pointer;display: block;width: 100%;margin-bottom: 0;padding: 0.3em;box-sizing: border-box;text-align: center;}#sk-container-id-1 label.sk-toggleable__label-arrow:before {content: \"▸\";float: left;margin-right: 0.25em;color: #696969;}#sk-container-id-1 label.sk-toggleable__label-arrow:hover:before {color: black;}#sk-container-id-1 div.sk-estimator:hover label.sk-toggleable__label-arrow:before {color: black;}#sk-container-id-1 div.sk-toggleable__content {max-height: 0;max-width: 0;overflow: hidden;text-align: left;background-color: #f0f8ff;}#sk-container-id-1 div.sk-toggleable__content pre {margin: 0.2em;color: black;border-radius: 0.25em;background-color: #f0f8ff;}#sk-container-id-1 input.sk-toggleable__control:checked~div.sk-toggleable__content {max-height: 200px;max-width: 100%;overflow: auto;}#sk-container-id-1 input.sk-toggleable__control:checked~label.sk-toggleable__label-arrow:before {content: \"▾\";}#sk-container-id-1 div.sk-estimator input.sk-toggleable__control:checked~label.sk-toggleable__label {background-color: #d4ebff;}#sk-container-id-1 div.sk-label input.sk-toggleable__control:checked~label.sk-toggleable__label {background-color: #d4ebff;}#sk-container-id-1 input.sk-hidden--visually {border: 0;clip: rect(1px 1px 1px 1px);clip: rect(1px, 1px, 1px, 1px);height: 1px;margin: -1px;overflow: hidden;padding: 0;position: absolute;width: 1px;}#sk-container-id-1 div.sk-estimator {font-family: monospace;background-color: #f0f8ff;border: 1px dotted black;border-radius: 0.25em;box-sizing: border-box;margin-bottom: 0.5em;}#sk-container-id-1 div.sk-estimator:hover {background-color: #d4ebff;}#sk-container-id-1 div.sk-parallel-item::after {content: \"\";width: 100%;border-bottom: 1px solid gray;flex-grow: 1;}#sk-container-id-1 div.sk-label:hover label.sk-toggleable__label {background-color: #d4ebff;}#sk-container-id-1 div.sk-serial::before {content: \"\";position: absolute;border-left: 1px solid gray;box-sizing: border-box;top: 0;bottom: 0;left: 50%;z-index: 0;}#sk-container-id-1 div.sk-serial {display: flex;flex-direction: column;align-items: center;background-color: white;padding-right: 0.2em;padding-left: 0.2em;position: relative;}#sk-container-id-1 div.sk-item {position: relative;z-index: 1;}#sk-container-id-1 div.sk-parallel {display: flex;align-items: stretch;justify-content: center;background-color: white;position: relative;}#sk-container-id-1 div.sk-item::before, #sk-container-id-1 div.sk-parallel-item::before {content: \"\";position: absolute;border-left: 1px solid gray;box-sizing: border-box;top: 0;bottom: 0;left: 50%;z-index: -1;}#sk-container-id-1 div.sk-parallel-item {display: flex;flex-direction: column;z-index: 1;position: relative;background-color: white;}#sk-container-id-1 div.sk-parallel-item:first-child::after {align-self: flex-end;width: 50%;}#sk-container-id-1 div.sk-parallel-item:last-child::after {align-self: flex-start;width: 50%;}#sk-container-id-1 div.sk-parallel-item:only-child::after {width: 0;}#sk-container-id-1 div.sk-dashed-wrapped {border: 1px dashed gray;margin: 0 0.4em 0.5em 0.4em;box-sizing: border-box;padding-bottom: 0.4em;background-color: white;}#sk-container-id-1 div.sk-label label {font-family: monospace;font-weight: bold;display: inline-block;line-height: 1.2em;}#sk-container-id-1 div.sk-label-container {text-align: center;}#sk-container-id-1 div.sk-container {/* jupyter's `normalize.less` sets `[hidden] { display: none; }` but bootstrap.min.css set `[hidden] { display: none !important; }` so we also need the `!important` here to be able to override the default hidden behavior on the sphinx rendered scikit-learn.org. See: https://github.com/scikit-learn/scikit-learn/issues/21755 */display: inline-block !important;position: relative;}#sk-container-id-1 div.sk-text-repr-fallback {display: none;}</style><div id=\"sk-container-id-1\" class=\"sk-top-container\"><div class=\"sk-text-repr-fallback\"><pre>RandomForestClassifier(random_state=42)</pre><b>In a Jupyter environment, please rerun this cell to show the HTML representation or trust the notebook. <br />On GitHub, the HTML representation is unable to render, please try loading this page with nbviewer.org.</b></div><div class=\"sk-container\" hidden><div class=\"sk-item\"><div class=\"sk-estimator sk-toggleable\"><input class=\"sk-toggleable__control sk-hidden--visually\" id=\"sk-estimator-id-1\" type=\"checkbox\" checked><label for=\"sk-estimator-id-1\" class=\"sk-toggleable__label sk-toggleable__label-arrow\">RandomForestClassifier</label><div class=\"sk-toggleable__content\"><pre>RandomForestClassifier(random_state=42)</pre></div></div></div></div></div>"
      ],
      "text/plain": [
       "RandomForestClassifier(random_state=42)"
      ]
     },
     "execution_count": 18,
     "metadata": {},
     "output_type": "execute_result"
    }
   ],
   "source": [
    "X_train, X_test, y_train, y_test = train_test_split(training_data, training_labels, test_size=0.2, random_state=42)\n",
    "clf = RandomForestClassifier(n_estimators=100, random_state=42)\n",
    "clf.fit(X_train, y_train)"
   ]
  },
  {
   "cell_type": "markdown",
   "id": "2868a2ed",
   "metadata": {},
   "source": [
    "## Results"
   ]
  },
  {
   "cell_type": "code",
   "execution_count": 19,
   "id": "6f149a3e-495f-4ecf-a645-62272afd0ae3",
   "metadata": {},
   "outputs": [
    {
     "data": {
      "image/png": "[encoded data removed]",
      "text/plain": [
       "<Figure size 800x600 with 2 Axes>"
      ]
     },
     "metadata": {},
     "output_type": "display_data"
    }
   ],
   "source": [
    "y_pred = clf.predict(X_test)\n",
    "conf_matrix = confusion_matrix(y_test, y_pred)\n",
    "df_conf_matrix = pd.DataFrame(conf_matrix, index=np.unique(y_test), columns=np.unique(y_test))\n",
    "plt.figure(figsize=(8, 6))\n",
    "sns.heatmap(df_conf_matrix, annot=True, cmap=\"YlGnBu\", fmt='g')\n",
    "plt.xlabel('Predicted Labels')\n",
    "plt.ylabel('True Labels')\n",
    "plt.title('Confusion Matrix Heatmap')\n",
    "plt.show()\n"
   ]
  },
  {
   "cell_type": "markdown",
   "id": "d757082f-ac80-48fd-9318-fdf671f677ab",
   "metadata": {},
   "source": [
    "And if we want a single score indicating how cleanly Baysor is separating all of our individual clusters:"
   ]
  },
  {
   "cell_type": "code",
   "execution_count": 20,
   "id": "e56ec0bf-f274-4ae5-902b-b876c5ba402b",
   "metadata": {},
   "outputs": [],
   "source": [
    "ami_score = adjusted_mutual_info_score(y_test, y_pred)"
   ]
  },
  {
   "cell_type": "code",
   "execution_count": 21,
   "id": "0b77d4f3-815d-4231-bc95-553f5c11adb8",
   "metadata": {},
   "outputs": [
    {
     "name": "stdout",
     "output_type": "stream",
     "text": [
      "0.47376252356755727\n"
     ]
    }
   ],
   "source": [
    "print(ami_score)"
   ]
  },
  {
   "cell_type": "markdown",
   "id": "0fb94cdd-1199-425b-ad4f-8c2d2e92d76a",
   "metadata": {},
   "source": [
    "Closest to 1 is best"
   ]
  }
 ],
 "metadata": {
  "kernelspec": {
   "display_name": "Python 3 (ipykernel)",
   "language": "python",
   "name": "python3"
  },
  "language_info": {
   "codemirror_mode": {
    "name": "ipython",
    "version": 3
   },
   "file_extension": ".py",
   "mimetype": "text/x-python",
   "name": "python",
   "nbconvert_exporter": "python",
   "pygments_lexer": "ipython3",
   "version": "3.11.5"
  }
 },
 "nbformat": 4,
 "nbformat_minor": 5
}
